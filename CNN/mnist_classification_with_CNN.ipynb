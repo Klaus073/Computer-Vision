{
 "cells": [
  {
   "cell_type": "code",
   "execution_count": 10,
   "id": "e9fccf2a",
   "metadata": {},
   "outputs": [],
   "source": [
    "import tensorflow as tf\n",
    "from tensorflow.keras.datasets import mnist\n",
    "from tensorflow.keras.models import Sequential\n",
    "from tensorflow.keras.layers import Conv2D , MaxPooling2D, Flatten , Dense\n",
    "from tensorflow.keras.utils import to_categorical"
   ]
  },
  {
   "cell_type": "code",
   "execution_count": 11,
   "id": "089cfcee",
   "metadata": {},
   "outputs": [],
   "source": [
    "(x_train, y_train), (x_test, y_test) = mnist.load_data()\n",
    "x_train = x_train.reshape(x_train.shape[0], 28, 28, 1).astype('float32') / 255\n",
    "x_test = x_test.reshape(x_test.shape[0], 28, 28, 1).astype('float32') / 255\n",
    "y_train = to_categorical(y_train, 10)\n",
    "y_test = to_categorical(y_test, 10)\n"
   ]
  },
  {
   "cell_type": "code",
   "execution_count": 12,
   "id": "fc08e0c1",
   "metadata": {},
   "outputs": [],
   "source": [
    "model = Sequential()\n",
    "model.add(Conv2D(32, kernel_size=(3, 3), activation='relu', input_shape=(28, 28, 1)))\n",
    "model.add(MaxPooling2D(pool_size=(2, 2)))\n",
    "model.add(Conv2D(64, kernel_size=(3, 3), activation='relu'))\n",
    "model.add(MaxPooling2D(pool_size=(2, 2)))\n",
    "model.add(Flatten())\n",
    "model.add(Dense(128, activation='relu'))\n",
    "model.add(Dense(10, activation='softmax'))\n"
   ]
  },
  {
   "cell_type": "code",
   "execution_count": 16,
   "id": "9b653824",
   "metadata": {},
   "outputs": [],
   "source": [
    "model.compile(loss='categorical_crossentropy' , optimizer='adam' , metrics='accuracy')"
   ]
  },
  {
   "cell_type": "code",
   "execution_count": 18,
   "id": "a5dd7afc",
   "metadata": {},
   "outputs": [
    {
     "name": "stdout",
     "output_type": "stream",
     "text": [
      "Epoch 1/10\n",
      "469/469 [==============================] - 25s 53ms/step - loss: 0.0231 - accuracy: 0.9928 - val_loss: 0.0418 - val_accuracy: 0.9871\n",
      "Epoch 2/10\n",
      "469/469 [==============================] - 25s 53ms/step - loss: 0.0174 - accuracy: 0.9946 - val_loss: 0.0281 - val_accuracy: 0.9915\n",
      "Epoch 3/10\n",
      "469/469 [==============================] - 24s 50ms/step - loss: 0.0140 - accuracy: 0.9955 - val_loss: 0.0404 - val_accuracy: 0.9875\n",
      "Epoch 4/10\n",
      "469/469 [==============================] - 24s 51ms/step - loss: 0.0107 - accuracy: 0.9967 - val_loss: 0.0320 - val_accuracy: 0.9909\n",
      "Epoch 5/10\n",
      "469/469 [==============================] - 25s 54ms/step - loss: 0.0109 - accuracy: 0.9965 - val_loss: 0.0297 - val_accuracy: 0.9910\n",
      "Epoch 6/10\n",
      "469/469 [==============================] - 24s 52ms/step - loss: 0.0082 - accuracy: 0.9973 - val_loss: 0.0427 - val_accuracy: 0.9882\n",
      "Epoch 7/10\n",
      "469/469 [==============================] - 25s 54ms/step - loss: 0.0069 - accuracy: 0.9977 - val_loss: 0.0387 - val_accuracy: 0.9907\n",
      "Epoch 8/10\n",
      "469/469 [==============================] - 24s 52ms/step - loss: 0.0060 - accuracy: 0.9981 - val_loss: 0.0299 - val_accuracy: 0.9925\n",
      "Epoch 9/10\n",
      "469/469 [==============================] - 24s 51ms/step - loss: 0.0050 - accuracy: 0.9983 - val_loss: 0.0356 - val_accuracy: 0.9909\n",
      "Epoch 10/10\n",
      "469/469 [==============================] - 24s 51ms/step - loss: 0.0051 - accuracy: 0.9984 - val_loss: 0.0326 - val_accuracy: 0.9908\n"
     ]
    }
   ],
   "source": [
    "batch_size = 128\n",
    "epochs = 10\n",
    "\n",
    "history = model.fit(x_train , y_train , batch_size=batch_size , epochs=epochs , validation_data=(x_test , y_test))"
   ]
  },
  {
   "cell_type": "code",
   "execution_count": null,
   "id": "cb4e3346",
   "metadata": {},
   "outputs": [],
   "source": [
    "score = model.evaluate(x_test, y_test, verbose=0)\n",
    "print(\"Test loss:\", score[0])\n",
    "print(\"Test accuracy:\", score[1])"
   ]
  },
  {
   "cell_type": "code",
   "execution_count": 19,
   "id": "1c6dabd5",
   "metadata": {},
   "outputs": [
    {
     "data": {
      "image/png": "[encoded data removed]",
      "text/plain": [
       "<Figure size 640x480 with 1 Axes>"
      ]
     },
     "metadata": {},
     "output_type": "display_data"
    }
   ],
   "source": [
    "import matplotlib.pyplot as plt\n",
    "\n",
    "plt.plot(history.history['accuracy'],color='red',label='train')\n",
    "plt.plot(history.history['val_accuracy'],color='blue',label='validation')\n",
    "plt.plot(history.history['loss'],color='black',label='train loss')\n",
    "plt.plot(history.history['val_loss'],color='yellow',label='validation loss')\n",
    "plt.legend()\n",
    "plt.show()"
   ]
  },
  {
   "cell_type": "code",
   "execution_count": null,
   "id": "29f0cc77",
   "metadata": {},
   "outputs": [],
   "source": []
  }
 ],
 "metadata": {
  "kernelspec": {
   "display_name": "Python 3 (ipykernel)",
   "language": "python",
   "name": "python3"
  },
  "language_info": {
   "codemirror_mode": {
    "name": "ipython",
    "version": 3
   },
   "file_extension": ".py",
   "mimetype": "text/x-python",
   "name": "python",
   "nbconvert_exporter": "python",
   "pygments_lexer": "ipython3",
   "version": "3.11.3"
  }
 },
 "nbformat": 4,
 "nbformat_minor": 5
}
