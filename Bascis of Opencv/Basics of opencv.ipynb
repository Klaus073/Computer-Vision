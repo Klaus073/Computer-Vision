{
 "cells": [
  {
   "cell_type": "code",
   "execution_count": 1,
   "id": "d6b57caa",
   "metadata": {},
   "outputs": [],
   "source": [
    "import cv2 as cv\n",
    "import numpy as np\n",
    "import matplotlib.pyplot as plt"
   ]
  },
  {
   "cell_type": "markdown",
   "id": "a1701db9",
   "metadata": {},
   "source": [
    "# Image Reading and Resizing"
   ]
  },
  {
   "cell_type": "code",
   "execution_count": 2,
   "id": "fd2348f5",
   "metadata": {},
   "outputs": [],
   "source": [
    "img = cv.imread(\"23.jpg\")\n",
    "resized_img = cv.resize(img, (600, 790))"
   ]
  },
  {
   "cell_type": "code",
   "execution_count": 3,
   "id": "dc428a58",
   "metadata": {},
   "outputs": [],
   "source": [
    "cv.imshow(\"test\",resized_img)\n",
    "cv.waitKey(0)\n",
    "cv.destroyAllWindows()"
   ]
  },
  {
   "cell_type": "code",
   "execution_count": 4,
   "id": "55e58d1f",
   "metadata": {},
   "outputs": [],
   "source": [
    "new_img = resized_img.copy()"
   ]
  },
  {
   "cell_type": "markdown",
   "id": "cefc8be6",
   "metadata": {},
   "source": [
    "## Indexing and ROIs"
   ]
  },
  {
   "cell_type": "code",
   "execution_count": 5,
   "id": "74c09f03",
   "metadata": {},
   "outputs": [],
   "source": [
    "roi = new_img[100:300, 200:400]"
   ]
  },
  {
   "cell_type": "code",
   "execution_count": 6,
   "id": "f2f1d5b3",
   "metadata": {},
   "outputs": [],
   "source": [
    "cv.imshow('Region of Interest', roi)\n",
    "cv.waitKey(0)\n",
    "cv.destroyAllWindows()"
   ]
  },
  {
   "cell_type": "markdown",
   "id": "0f990456",
   "metadata": {},
   "source": [
    "### making rectangle on blank image"
   ]
  },
  {
   "cell_type": "code",
   "execution_count": 7,
   "id": "f6ea292e",
   "metadata": {},
   "outputs": [],
   "source": [
    "new = np.zeros((500,500,3),dtype = np.uint8)"
   ]
  },
  {
   "cell_type": "code",
   "execution_count": 8,
   "id": "ae488a1f",
   "metadata": {},
   "outputs": [],
   "source": [
    "new_dd = cv.rectangle(new , (100,100),(300,300),(0,0,255),2)"
   ]
  },
  {
   "cell_type": "code",
   "execution_count": 9,
   "id": "47a91d1c",
   "metadata": {},
   "outputs": [],
   "source": [
    "cv.imshow(\"create rectangle of black image\",new_dd)\n",
    "cv.waitKey(0)\n",
    "cv.destroyAllWindows()"
   ]
  },
  {
   "cell_type": "markdown",
   "id": "b1426d15",
   "metadata": {},
   "source": [
    "## Gray image"
   ]
  },
  {
   "cell_type": "code",
   "execution_count": 10,
   "id": "7cd0dc60",
   "metadata": {},
   "outputs": [],
   "source": [
    "gray_img = cv.imread(\"23.jpg\" , cv.IMREAD_GRAYSCALE)\n",
    "gray_img = cv.resize(gray_img, (600, 790))"
   ]
  },
  {
   "cell_type": "code",
   "execution_count": 11,
   "id": "a1cf5eef",
   "metadata": {},
   "outputs": [],
   "source": [
    "cv.imshow(\"gray image\",gray_img)\n",
    "cv.waitKey(0)\n",
    "cv.destroyAllWindows()"
   ]
  },
  {
   "cell_type": "markdown",
   "id": "85c7a7c5",
   "metadata": {},
   "source": [
    "## Canny Edges"
   ]
  },
  {
   "cell_type": "code",
   "execution_count": 12,
   "id": "91ba7e83",
   "metadata": {},
   "outputs": [],
   "source": [
    "canny = cv.Canny(gray_img , threshold1=100 , threshold2=200)"
   ]
  },
  {
   "cell_type": "code",
   "execution_count": 13,
   "id": "f0cab6aa",
   "metadata": {},
   "outputs": [],
   "source": [
    "cv.imshow(\"Canny image\",canny)\n",
    "cv.waitKey(0)\n",
    "cv.destroyAllWindows()"
   ]
  },
  {
   "cell_type": "markdown",
   "id": "b970df9b",
   "metadata": {},
   "source": [
    "## Drawing contours on image and Thresholding"
   ]
  },
  {
   "cell_type": "code",
   "execution_count": 14,
   "id": "2820bfe7",
   "metadata": {},
   "outputs": [
    {
     "data": {
      "text/plain": [
       "array([[[0, 0, 0],\n",
       "        [0, 0, 0],\n",
       "        [0, 0, 0],\n",
       "        ...,\n",
       "        [0, 0, 0],\n",
       "        [0, 0, 0],\n",
       "        [0, 0, 0]],\n",
       "\n",
       "       [[0, 0, 0],\n",
       "        [0, 0, 0],\n",
       "        [0, 0, 0],\n",
       "        ...,\n",
       "        [0, 0, 0],\n",
       "        [0, 0, 0],\n",
       "        [0, 0, 0]],\n",
       "\n",
       "       [[0, 0, 0],\n",
       "        [0, 0, 0],\n",
       "        [0, 0, 0],\n",
       "        ...,\n",
       "        [0, 0, 0],\n",
       "        [0, 0, 0],\n",
       "        [0, 0, 0]],\n",
       "\n",
       "       ...,\n",
       "\n",
       "       [[0, 0, 0],\n",
       "        [0, 0, 0],\n",
       "        [0, 0, 0],\n",
       "        ...,\n",
       "        [0, 0, 0],\n",
       "        [0, 0, 0],\n",
       "        [0, 0, 0]],\n",
       "\n",
       "       [[0, 0, 0],\n",
       "        [0, 0, 0],\n",
       "        [0, 0, 0],\n",
       "        ...,\n",
       "        [0, 0, 0],\n",
       "        [0, 0, 0],\n",
       "        [0, 0, 0]],\n",
       "\n",
       "       [[0, 0, 0],\n",
       "        [0, 0, 0],\n",
       "        [0, 0, 0],\n",
       "        ...,\n",
       "        [0, 0, 0],\n",
       "        [0, 0, 0],\n",
       "        [0, 0, 0]]], dtype=uint8)"
      ]
     },
     "execution_count": 14,
     "metadata": {},
     "output_type": "execute_result"
    }
   ],
   "source": [
    "image = cv.imread('23.jpg')\n",
    "image = cv.resize(image, (600, 790))\n",
    "gray_image = cv.cvtColor(image, cv.COLOR_BGR2GRAY)\n",
    "\n",
    "ret , binary = cv.threshold(gray_image , 0,255,cv.THRESH_BINARY + cv.THRESH_OTSU)\n",
    "contours, _ = cv.findContours(binary, cv.RETR_EXTERNAL, cv.CHAIN_APPROX_SIMPLE)\n",
    "\n",
    "contour_image = np.zeros_like(resized_img)\n",
    "cv.drawContours(contour_image, contours, -2, (255, 255, 255), 2)"
   ]
  },
  {
   "cell_type": "code",
   "execution_count": 15,
   "id": "2018eeb4",
   "metadata": {},
   "outputs": [],
   "source": [
    "cv.imshow('Original image with grayscale', gray_image)\n",
    "cv.imshow('Image with Contours', contour_image)\n",
    "cv.waitKey(0)\n",
    "cv.destroyAllWindows()"
   ]
  },
  {
   "cell_type": "code",
   "execution_count": null,
   "id": "697a9015",
   "metadata": {},
   "outputs": [],
   "source": []
  },
  {
   "cell_type": "code",
   "execution_count": null,
   "id": "0a8bfe66",
   "metadata": {},
   "outputs": [],
   "source": []
  },
  {
   "cell_type": "markdown",
   "id": "bb46d11b",
   "metadata": {},
   "source": [
    "## Morphlogical Operations:"
   ]
  },
  {
   "cell_type": "markdown",
   "id": "ff1f8acb",
   "metadata": {},
   "source": [
    "### Erosion"
   ]
  },
  {
   "cell_type": "code",
   "execution_count": 16,
   "id": "f66610bd",
   "metadata": {},
   "outputs": [],
   "source": [
    "kernel = np.ones((3, 3), np.uint8)\n",
    "eroded_image = cv.erode(binary, kernel, iterations=1 )"
   ]
  },
  {
   "cell_type": "code",
   "execution_count": 17,
   "id": "a1f0d12e",
   "metadata": {},
   "outputs": [],
   "source": [
    "cv.imshow('Original image with grayscale', binary)\n",
    "cv.imshow('Erdoed Image', eroded_image)\n",
    "cv.waitKey(0)\n",
    "cv.destroyAllWindows()"
   ]
  },
  {
   "cell_type": "markdown",
   "id": "ced71085",
   "metadata": {},
   "source": [
    "### Dilation"
   ]
  },
  {
   "cell_type": "code",
   "execution_count": 18,
   "id": "34d2b7fe",
   "metadata": {},
   "outputs": [],
   "source": [
    "dilated_image = cv.dilate(binary, kernel, iterations=1)"
   ]
  },
  {
   "cell_type": "code",
   "execution_count": 19,
   "id": "e7d46e40",
   "metadata": {},
   "outputs": [],
   "source": [
    "cv.imshow('Original', binary)\n",
    "cv.imshow('dilation Image', dilated_image)\n",
    "cv.waitKey(0)\n",
    "cv.destroyAllWindows()"
   ]
  },
  {
   "cell_type": "markdown",
   "id": "cfd91390",
   "metadata": {},
   "source": [
    "### Opening"
   ]
  },
  {
   "cell_type": "code",
   "execution_count": 20,
   "id": "b226475a",
   "metadata": {},
   "outputs": [],
   "source": [
    "opened_image = cv.morphologyEx(binary, cv.MORPH_OPEN, kernel)"
   ]
  },
  {
   "cell_type": "code",
   "execution_count": 21,
   "id": "8a5260e7",
   "metadata": {},
   "outputs": [],
   "source": [
    "cv.imshow('Original', binary)\n",
    "cv.imshow('Opening Image', opened_image)\n",
    "cv.waitKey(0)\n",
    "cv.destroyAllWindows()"
   ]
  },
  {
   "cell_type": "markdown",
   "id": "a5d07001",
   "metadata": {},
   "source": [
    "### Closing"
   ]
  },
  {
   "cell_type": "code",
   "execution_count": 22,
   "id": "9a3d66ae",
   "metadata": {},
   "outputs": [],
   "source": [
    "closed_image = cv.morphologyEx(binary, cv.MORPH_CLOSE, kernel)"
   ]
  },
  {
   "cell_type": "code",
   "execution_count": 23,
   "id": "c78719e6",
   "metadata": {},
   "outputs": [],
   "source": [
    "cv.imshow('Original', binary)\n",
    "cv.imshow('Closing Image', closed_image)\n",
    "cv.waitKey(0)\n",
    "cv.destroyAllWindows()"
   ]
  },
  {
   "cell_type": "markdown",
   "id": "3272ee23",
   "metadata": {},
   "source": [
    "### Boundry Extraction"
   ]
  },
  {
   "cell_type": "code",
   "execution_count": 24,
   "id": "9806ada0",
   "metadata": {},
   "outputs": [],
   "source": [
    "gradient_image = cv.morphologyEx(binary, cv.MORPH_GRADIENT, kernel)"
   ]
  },
  {
   "cell_type": "code",
   "execution_count": 25,
   "id": "dcae328d",
   "metadata": {},
   "outputs": [],
   "source": [
    "cv.imshow('Original', binary)\n",
    "cv.imshow('Boundry Extraction Image', gradient_image)\n",
    "cv.waitKey(0)\n",
    "cv.destroyAllWindows()"
   ]
  },
  {
   "cell_type": "markdown",
   "id": "8b255462",
   "metadata": {},
   "source": [
    "# Thresholding"
   ]
  },
  {
   "cell_type": "markdown",
   "id": "7581bf8d",
   "metadata": {},
   "source": [
    "### Global , OTSU , Adaptive"
   ]
  },
  {
   "cell_type": "code",
   "execution_count": 26,
   "id": "db8245a0",
   "metadata": {},
   "outputs": [],
   "source": [
    "threshold_value = 128\n",
    "_, binary_global = cv.threshold(gray_image, threshold_value, 255, cv.THRESH_BINARY)\n",
    "\n",
    "_, binary_otsu = cv.threshold(gray_image, 0, 255, cv.THRESH_BINARY + cv.THRESH_OTSU)\n",
    "\n",
    "binary_adaptive = cv.adaptiveThreshold(gray_image, 255, cv.ADAPTIVE_THRESH_GAUSSIAN_C, cv.THRESH_BINARY, 11, 2)"
   ]
  },
  {
   "cell_type": "code",
   "execution_count": 27,
   "id": "59d1c449",
   "metadata": {},
   "outputs": [],
   "source": [
    "cv.imshow('Original', gray_image)\n",
    "cv.imshow('Global threshold Image', binary_global)\n",
    "cv.imshow('OTSU threshold Image', binary_otsu)\n",
    "cv.imshow('Ataptive threshold Image', binary_adaptive)\n",
    "cv.waitKey(0)\n",
    "cv.destroyAllWindows()"
   ]
  },
  {
   "cell_type": "markdown",
   "id": "5e8b1b36",
   "metadata": {},
   "source": [
    "# Contour Features"
   ]
  },
  {
   "cell_type": "code",
   "execution_count": 28,
   "id": "b052823e",
   "metadata": {},
   "outputs": [],
   "source": [
    "image = cv.imread('22.jpg')\n",
    "image = cv.resize(image, (600, 790))\n",
    "gray_image = cv.cvtColor(image, cv.COLOR_BGR2GRAY)"
   ]
  },
  {
   "cell_type": "code",
   "execution_count": 29,
   "id": "65742d9e",
   "metadata": {},
   "outputs": [
    {
     "name": "stderr",
     "output_type": "stream",
     "text": [
      "C:\\Users\\nauman.tasawar\\AppData\\Local\\Temp\\ipykernel_15260\\2711456669.py:17: DeprecationWarning: `np.int0` is a deprecated alias for `np.intp`.  (Deprecated NumPy 1.24)\n",
      "  box = np.int0(box)\n"
     ]
    }
   ],
   "source": [
    "ret , binary = cv.threshold(gray_image , 0,255,cv.THRESH_BINARY + cv.THRESH_OTSU)\n",
    "contours, _ = cv.findContours(binary, cv.RETR_EXTERNAL, cv.CHAIN_APPROX_SIMPLE)\n",
    "\n",
    "# Iterate through contours\n",
    "for contour in contours:\n",
    "    \n",
    "    area = cv.contourArea(contour)\n",
    "    \n",
    "    # Calculate the bounding box around the contour\n",
    "    x, y, width, height = cv.boundingRect(contour)\n",
    "    \n",
    "    # Fit a rotated rectangle around the contour\n",
    "    rotated_rect = cv.minAreaRect(contour)\n",
    "    \n",
    "    # Draw the rotated rectangle\n",
    "    box = cv.boxPoints(rotated_rect)\n",
    "    box = np.int0(box)\n",
    "    cv.drawContours(image, [box], 0, (0, 0, 255), 2)\n",
    "    \n",
    "    # Fit a straight line to the contour points\n",
    "    [vx, vy, x, y] = cv.fitLine(contour, cv.DIST_L2, 0, 0.01, 0.01)\n",
    "    slope = vy / vx\n",
    "    y_intercept = y - slope * x\n",
    "    \n",
    "    # Draw the contour on the original image\n",
    "    cv.drawContours(image, [contour], 0, (0, 255, 0), 2)\n",
    "    \n",
    "    # Convert coordinates to integers\n",
    "    x = int(x)\n",
    "    y = int(y)\n",
    "    width = int(width)\n",
    "    height = int(height)\n",
    "    \n",
    "    # Draw the bounding box\n",
    "    cv.rectangle(image, (x, y), (x + width, y + height), (255, 0, 0), 2)"
   ]
  },
  {
   "cell_type": "code",
   "execution_count": 30,
   "id": "2cc31280",
   "metadata": {},
   "outputs": [],
   "source": [
    "cv.imshow('Image with Bounding Boxes', image)\n",
    "cv.waitKey(0)\n",
    "cv.destroyAllWindows()"
   ]
  },
  {
   "cell_type": "markdown",
   "id": "bd55b4d7",
   "metadata": {},
   "source": [
    "# Hough Lines "
   ]
  },
  {
   "cell_type": "code",
   "execution_count": 33,
   "id": "ef568241",
   "metadata": {},
   "outputs": [],
   "source": [
    "image = cv.imread('22.jpg')\n",
    "image = cv.resize(image, (600, 790))\n",
    "gray_image = cv.cvtColor(image, cv.COLOR_BGR2GRAY)"
   ]
  },
  {
   "cell_type": "code",
   "execution_count": 34,
   "id": "a641302d",
   "metadata": {},
   "outputs": [],
   "source": [
    "blurred_image = cv.GaussianBlur(gray_image, (5, 5), 0)\n",
    "\n",
    "edges = cv.Canny(blurred_image, threshold1=50, threshold2=150)\n",
    "\n",
    "lines = cv.HoughLines(edges, rho=1, theta=np.pi/180, threshold=100)\n",
    "if lines is not None:\n",
    "    for line in lines:\n",
    "        rho, theta = line[0]\n",
    "        a = np.cos(theta)\n",
    "        b = np.sin(theta)\n",
    "        x0 = a * rho\n",
    "        y0 = b * rho\n",
    "        x1 = int(x0 + 1000 * (-b))\n",
    "        y1 = int(y0 + 1000 * (a))\n",
    "        x2 = int(x0 - 1000 * (-b))\n",
    "        y2 = int(y0 - 1000 * (a))\n",
    "        cv.line(image, (x1, y1), (x2, y2), (0, 0, 255), 2)"
   ]
  },
  {
   "cell_type": "code",
   "execution_count": 35,
   "id": "39886810",
   "metadata": {},
   "outputs": [],
   "source": [
    "cv.imshow('Image with Hough Lines and Circles', image)\n",
    "cv.waitKey(0)\n",
    "cv.destroyAllWindows()"
   ]
  },
  {
   "cell_type": "markdown",
   "id": "06046b6e",
   "metadata": {},
   "source": [
    "# Hough Circles"
   ]
  },
  {
   "cell_type": "code",
   "execution_count": 36,
   "id": "7081984b",
   "metadata": {},
   "outputs": [],
   "source": [
    "image = cv.imread('22.jpg')\n",
    "image = cv.resize(image, (600, 790))\n",
    "gray_image = cv.cvtColor(image, cv.COLOR_BGR2GRAY)"
   ]
  },
  {
   "cell_type": "code",
   "execution_count": 37,
   "id": "3d8976cc",
   "metadata": {},
   "outputs": [],
   "source": [
    "circles = cv.HoughCircles(gray_image, cv.HOUGH_GRADIENT, dp=1, minDist=20, param1=50, param2=30, minRadius=0, maxRadius=0)\n",
    "\n",
    "if circles is not None:\n",
    "    circles = np.uint16(np.around(circles))\n",
    "    for circle in circles[0, :]:\n",
    "        center = (circle[0], circle[1])\n",
    "        radius = circle[2]\n",
    "        cv.circle(image, center, radius, (0, 255, 0), 2)"
   ]
  },
  {
   "cell_type": "code",
   "execution_count": 38,
   "id": "0c454634",
   "metadata": {},
   "outputs": [],
   "source": [
    "cv.imshow('Image with Hough Lines and Circles', image)\n",
    "cv.waitKey(0)\n",
    "cv.destroyAllWindows()"
   ]
  },
  {
   "cell_type": "markdown",
   "id": "26a27bcf",
   "metadata": {},
   "source": [
    "# Backgroung Subtraction"
   ]
  },
  {
   "cell_type": "code",
   "execution_count": 48,
   "id": "9121f756",
   "metadata": {},
   "outputs": [],
   "source": [
    "image = cv.imread('23.jpg')\n",
    "image = cv.resize(image, (600, 790))"
   ]
  },
  {
   "cell_type": "code",
   "execution_count": 49,
   "id": "1ddb5c75",
   "metadata": {},
   "outputs": [],
   "source": [
    "fg_bg = cv.createBackgroundSubtractorMOG2()\n",
    "foreground_mask = fg_bg.apply(image)"
   ]
  },
  {
   "cell_type": "code",
   "execution_count": 50,
   "id": "6313d57a",
   "metadata": {},
   "outputs": [],
   "source": [
    "\n",
    "cv.imshow('Foreground Mask', foreground_mask)\n",
    "cv.waitKey(0)\n",
    "cv.destroyAllWindows()"
   ]
  },
  {
   "cell_type": "markdown",
   "id": "dcd232a5",
   "metadata": {},
   "source": [
    "# K-Means Segmentaion"
   ]
  },
  {
   "cell_type": "code",
   "execution_count": 70,
   "id": "18cf283f",
   "metadata": {},
   "outputs": [],
   "source": [
    "image = cv.imread('22.jpg')\n",
    "image = cv.resize(image, (600, 790))"
   ]
  },
  {
   "cell_type": "code",
   "execution_count": 71,
   "id": "7683e17d",
   "metadata": {},
   "outputs": [],
   "source": [
    "pixels = image.reshape((-1, 3)).astype(np.float32)\n",
    "\n",
    "k = 3\n",
    "criteria = (cv.TERM_CRITERIA_EPS + cv.TERM_CRITERIA_MAX_ITER, 100, 0.2)\n",
    "_, labels, centers = cv.kmeans(pixels, k, None, criteria, 10, cv.KMEANS_RANDOM_CENTERS)\n",
    "\n",
    "centers = centers.astype(np.uint8)\n",
    "segmented_image = centers[labels.flatten()].reshape(image.shape)\n",
    "segmented_image = cv.cvtColor(segmented_image, cv.COLOR_BGR2RGB)"
   ]
  },
  {
   "cell_type": "code",
   "execution_count": 77,
   "id": "74c87755",
   "metadata": {},
   "outputs": [],
   "source": [
    "cv.imshow('Foreground Mask', segmented_image)\n",
    "cv.waitKey(0)\n",
    "cv.destroyAllWindows()"
   ]
  },
  {
   "cell_type": "code",
   "execution_count": 76,
   "id": "013b29d8",
   "metadata": {},
   "outputs": [],
   "source": []
  },
  {
   "cell_type": "code",
   "execution_count": null,
   "id": "5ad30ce3",
   "metadata": {},
   "outputs": [],
   "source": []
  }
 ],
 "metadata": {
  "kernelspec": {
   "display_name": "Python 3 (ipykernel)",
   "language": "python",
   "name": "python3"
  },
  "language_info": {
   "codemirror_mode": {
    "name": "ipython",
    "version": 3
   },
   "file_extension": ".py",
   "mimetype": "text/x-python",
   "name": "python",
   "nbconvert_exporter": "python",
   "pygments_lexer": "ipython3",
   "version": "3.11.3"
  }
 },
 "nbformat": 4,
 "nbformat_minor": 5
}
